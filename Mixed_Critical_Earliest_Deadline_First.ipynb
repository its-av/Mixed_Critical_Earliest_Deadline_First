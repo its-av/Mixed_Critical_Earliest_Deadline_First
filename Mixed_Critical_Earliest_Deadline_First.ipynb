{
  "cells": [
    {
      "cell_type": "markdown",
      "metadata": {
        "id": "o-eQwRWbXvl3"
      },
      "source": [
        "# MIXED CRITICAL EARLIEST DEADLINE FIRST\n",
        "\n",
        "**Research Paper:** Mixed Critical Earliest Deadline First\n",
        "\n",
        "**Conference:** Euromicro Conference on Real-Time Systems\n",
        "\n",
        "**Authors:** \n",
        "\n",
        "- Dario Socci, University Joseph Fourier\n",
        "- Peter Poplavko, Mentor A Siemens Business\n",
        "- Sadek Bensalem, Christian-Albrechts-Universitat zu Kiel\n",
        "\n",
        "**Published in:** July, 2013\n"
      ]
    },
    {
      "cell_type": "markdown",
      "metadata": {
        "id": "FQq_iFjW93ZN"
      },
      "source": [
        "# MCEDF"
      ]
    },
    {
      "cell_type": "markdown",
      "metadata": {
        "id": "Z9yq5l3cKlKB"
      },
      "source": [
        "## Mixed Critical Earliest Deadline First (MCEDF) Scheduling\n",
        "\n",
        "The proposed MCEDF algorithm computes a Priority Table (*PT*) for Fixed Priority per Mode (FPM) policy.\n",
        "\n",
        "**Approach:**\n",
        "- Initially, we compute the schedulability of LO scenario in subroutine LOscenarioFailure, by running EDF.\n",
        "- By optimality of EDF for single criticality level, if a job misses the deadline, then the instance is not schedulable.\n",
        "- To compute the final priority table, the MCEDF algorithm first calls subroutine GeneratePriorityTree, which generates constraints on the priorities. \n",
        "- These constraints are represented by a directed graph G. \n",
        "- Every node in G associates to a unique job, and every edge to a ‘strictly greater than’ constraint between the job priorities, thus G defines a partial order on job priorities.\n",
        "- Finally, the subroutine anyHIscenarioFailure evaluates whether Condition 2 is met.\n",
        "\n",
        "The check is done by a simulation over the set of all basic HI scenarios where a particular HI job is the first in the schedule to switch to the HI mode and all the HI jobs that execute after the switch conservatively use the C(HI) execution times."
      ]
    },
    {
      "cell_type": "code",
      "execution_count": null,
      "metadata": {
        "id": "FxytZH3NXyXd"
      },
      "outputs": [],
      "source": [
        "# Import the required Python libraries\n",
        "\n",
        "import pandas as pd\n",
        "from numpy import partition\n",
        "import matplotlib.pyplot as plt\n",
        "from collections import defaultdict\n",
        "from time import time"
      ]
    },
    {
      "cell_type": "code",
      "execution_count": null,
      "metadata": {
        "id": "4iUbN2TfX-A8"
      },
      "outputs": [],
      "source": [
        "# Creating job instances for scheduling\n",
        "\n",
        "columns = ['unique_index', 'arrival_time', 'deadline', 'criticality_level', 'lo_wcet', 'hi_wcet']\n",
        "\n",
        "job1 = [[1, 0, 17, 'LO', 2, 2],\n",
        "        [2, 0, 18, 'HI', 4, 5]]\n",
        "\n",
        "job2 = [[1, 0, 5, 'HI', 2, 3],\n",
        "       [2, 0, 6, 'HI', 1, 2],\n",
        "       [3, 0, 4, 'LO', 2, 2]]\n",
        "\n",
        "job3 = [[1, 0, 3, 'LO', 2, 2],\n",
        "        [2, 3, 4, 'LO', 1, 1],\n",
        "        [3, 3, 5, 'HI', 1, 1],\n",
        "        [4, 0, 6, 'HI', 1, 4]]\n",
        "\n",
        "job4 = [[1, 0, 30, 'HI', 10, 12],\n",
        "        [2, 2, 10, 'HI', 2, 8],\n",
        "        [3, 1, 18, 'LO', 2, 2],\n",
        "        [4, 8, 17, 'HI', 2, 7],\n",
        "        [5, 7, 11, 'LO', 2, 2]]\n",
        "\n",
        "job5   = [[1, 0, 11, 'HI', 10, 12],\n",
        "        [2, 2, 10, 'HI', 2, 8],\n",
        "        [3, 1, 8, 'LO', 2, 2],\n",
        "        [4, 8, 17, 'HI', 2, 7],\n",
        "        [5, 7, 11, 'LO', 2, 2],\n",
        "        [6, 7, 20, 'LO', 3, 3]]\n",
        "\n",
        "\n",
        "\n",
        "job1 = pd.DataFrame(job1, columns=columns)\n",
        "job2 = pd.DataFrame(job2, columns=columns)\n",
        "job3 = pd.DataFrame(job3, columns=columns)\n",
        "job4 = pd.DataFrame(job4, columns=columns)\n",
        "job5 = pd.DataFrame(job5, columns=columns)"
      ]
    },
    {
      "cell_type": "code",
      "execution_count": null,
      "metadata": {
        "colab": {
          "base_uri": "https://localhost:8080/",
          "height": 238
        },
        "id": "viBBqldvM4XC",
        "outputId": "aaf6ea1b-e7b4-47c1-b050-8eddcb0b233f"
      },
      "outputs": [
        {
          "data": {
            "text/html": [
              "\n",
              "  <div id=\"df-dfd9e39f-34bd-4273-9bbd-ba0b4e458195\">\n",
              "    <div class=\"colab-df-container\">\n",
              "      <div>\n",
              "<style scoped>\n",
              "    .dataframe tbody tr th:only-of-type {\n",
              "        vertical-align: middle;\n",
              "    }\n",
              "\n",
              "    .dataframe tbody tr th {\n",
              "        vertical-align: top;\n",
              "    }\n",
              "\n",
              "    .dataframe thead th {\n",
              "        text-align: right;\n",
              "    }\n",
              "</style>\n",
              "<table border=\"1\" class=\"dataframe\">\n",
              "  <thead>\n",
              "    <tr style=\"text-align: right;\">\n",
              "      <th></th>\n",
              "      <th>unique_index</th>\n",
              "      <th>arrival_time</th>\n",
              "      <th>deadline</th>\n",
              "      <th>criticality_level</th>\n",
              "      <th>lo_wcet</th>\n",
              "      <th>hi_wcet</th>\n",
              "    </tr>\n",
              "  </thead>\n",
              "  <tbody>\n",
              "    <tr>\n",
              "      <th>0</th>\n",
              "      <td>1</td>\n",
              "      <td>0</td>\n",
              "      <td>11</td>\n",
              "      <td>HI</td>\n",
              "      <td>10</td>\n",
              "      <td>12</td>\n",
              "    </tr>\n",
              "    <tr>\n",
              "      <th>1</th>\n",
              "      <td>2</td>\n",
              "      <td>2</td>\n",
              "      <td>10</td>\n",
              "      <td>HI</td>\n",
              "      <td>2</td>\n",
              "      <td>8</td>\n",
              "    </tr>\n",
              "    <tr>\n",
              "      <th>2</th>\n",
              "      <td>3</td>\n",
              "      <td>1</td>\n",
              "      <td>8</td>\n",
              "      <td>LO</td>\n",
              "      <td>2</td>\n",
              "      <td>2</td>\n",
              "    </tr>\n",
              "    <tr>\n",
              "      <th>3</th>\n",
              "      <td>4</td>\n",
              "      <td>8</td>\n",
              "      <td>17</td>\n",
              "      <td>HI</td>\n",
              "      <td>2</td>\n",
              "      <td>7</td>\n",
              "    </tr>\n",
              "    <tr>\n",
              "      <th>4</th>\n",
              "      <td>5</td>\n",
              "      <td>7</td>\n",
              "      <td>11</td>\n",
              "      <td>LO</td>\n",
              "      <td>2</td>\n",
              "      <td>2</td>\n",
              "    </tr>\n",
              "    <tr>\n",
              "      <th>5</th>\n",
              "      <td>6</td>\n",
              "      <td>7</td>\n",
              "      <td>20</td>\n",
              "      <td>LO</td>\n",
              "      <td>3</td>\n",
              "      <td>3</td>\n",
              "    </tr>\n",
              "  </tbody>\n",
              "</table>\n",
              "</div>\n",
              "      <button class=\"colab-df-convert\" onclick=\"convertToInteractive('df-dfd9e39f-34bd-4273-9bbd-ba0b4e458195')\"\n",
              "              title=\"Convert this dataframe to an interactive table.\"\n",
              "              style=\"display:none;\">\n",
              "        \n",
              "  <svg xmlns=\"http://www.w3.org/2000/svg\" height=\"24px\"viewBox=\"0 0 24 24\"\n",
              "       width=\"24px\">\n",
              "    <path d=\"M0 0h24v24H0V0z\" fill=\"none\"/>\n",
              "    <path d=\"M18.56 5.44l.94 2.06.94-2.06 2.06-.94-2.06-.94-.94-2.06-.94 2.06-2.06.94zm-11 1L8.5 8.5l.94-2.06 2.06-.94-2.06-.94L8.5 2.5l-.94 2.06-2.06.94zm10 10l.94 2.06.94-2.06 2.06-.94-2.06-.94-.94-2.06-.94 2.06-2.06.94z\"/><path d=\"M17.41 7.96l-1.37-1.37c-.4-.4-.92-.59-1.43-.59-.52 0-1.04.2-1.43.59L10.3 9.45l-7.72 7.72c-.78.78-.78 2.05 0 2.83L4 21.41c.39.39.9.59 1.41.59.51 0 1.02-.2 1.41-.59l7.78-7.78 2.81-2.81c.8-.78.8-2.07 0-2.86zM5.41 20L4 18.59l7.72-7.72 1.47 1.35L5.41 20z\"/>\n",
              "  </svg>\n",
              "      </button>\n",
              "      \n",
              "  <style>\n",
              "    .colab-df-container {\n",
              "      display:flex;\n",
              "      flex-wrap:wrap;\n",
              "      gap: 12px;\n",
              "    }\n",
              "\n",
              "    .colab-df-convert {\n",
              "      background-color: #E8F0FE;\n",
              "      border: none;\n",
              "      border-radius: 50%;\n",
              "      cursor: pointer;\n",
              "      display: none;\n",
              "      fill: #1967D2;\n",
              "      height: 32px;\n",
              "      padding: 0 0 0 0;\n",
              "      width: 32px;\n",
              "    }\n",
              "\n",
              "    .colab-df-convert:hover {\n",
              "      background-color: #E2EBFA;\n",
              "      box-shadow: 0px 1px 2px rgba(60, 64, 67, 0.3), 0px 1px 3px 1px rgba(60, 64, 67, 0.15);\n",
              "      fill: #174EA6;\n",
              "    }\n",
              "\n",
              "    [theme=dark] .colab-df-convert {\n",
              "      background-color: #3B4455;\n",
              "      fill: #D2E3FC;\n",
              "    }\n",
              "\n",
              "    [theme=dark] .colab-df-convert:hover {\n",
              "      background-color: #434B5C;\n",
              "      box-shadow: 0px 1px 3px 1px rgba(0, 0, 0, 0.15);\n",
              "      filter: drop-shadow(0px 1px 2px rgba(0, 0, 0, 0.3));\n",
              "      fill: #FFFFFF;\n",
              "    }\n",
              "  </style>\n",
              "\n",
              "      <script>\n",
              "        const buttonEl =\n",
              "          document.querySelector('#df-dfd9e39f-34bd-4273-9bbd-ba0b4e458195 button.colab-df-convert');\n",
              "        buttonEl.style.display =\n",
              "          google.colab.kernel.accessAllowed ? 'block' : 'none';\n",
              "\n",
              "        async function convertToInteractive(key) {\n",
              "          const element = document.querySelector('#df-dfd9e39f-34bd-4273-9bbd-ba0b4e458195');\n",
              "          const dataTable =\n",
              "            await google.colab.kernel.invokeFunction('convertToInteractive',\n",
              "                                                     [key], {});\n",
              "          if (!dataTable) return;\n",
              "\n",
              "          const docLinkHtml = 'Like what you see? Visit the ' +\n",
              "            '<a target=\"_blank\" href=https://colab.research.google.com/notebooks/data_table.ipynb>data table notebook</a>'\n",
              "            + ' to learn more about interactive tables.';\n",
              "          element.innerHTML = '';\n",
              "          dataTable['output_type'] = 'display_data';\n",
              "          await google.colab.output.renderOutput(dataTable, element);\n",
              "          const docLink = document.createElement('div');\n",
              "          docLink.innerHTML = docLinkHtml;\n",
              "          element.appendChild(docLink);\n",
              "        }\n",
              "      </script>\n",
              "    </div>\n",
              "  </div>\n",
              "  "
            ],
            "text/plain": [
              "   unique_index  arrival_time  deadline criticality_level  lo_wcet  hi_wcet\n",
              "0             1             0        11                HI       10       12\n",
              "1             2             2        10                HI        2        8\n",
              "2             3             1         8                LO        2        2\n",
              "3             4             8        17                HI        2        7\n",
              "4             5             7        11                LO        2        2\n",
              "5             6             7        20                LO        3        3"
            ]
          },
          "execution_count": 300,
          "metadata": {},
          "output_type": "execute_result"
        }
      ],
      "source": [
        "# Printing one instance of job\n",
        "\n",
        "job5"
      ]
    },
    {
      "cell_type": "code",
      "execution_count": null,
      "metadata": {
        "id": "bGIBu_hXKdVj"
      },
      "outputs": [],
      "source": [
        "def get_edf_priority(jobs):\n",
        "  '''\n",
        "  To get the priorities of tasks by applying Earliest Deadline First scheduling\n",
        "  '''\n",
        "  # Sort the tasks on the basis of their deadline\n",
        "  sorted_jobs = jobs.sort_values(['deadline'])\n",
        "  return list(sorted_jobs['unique_index'])\n",
        "\n",
        "#edf_priorities = get_edf_priority(job2)\n",
        "#edf_priorities"
      ]
    },
    {
      "cell_type": "code",
      "execution_count": null,
      "metadata": {
        "id": "Ac1a_qlqQ6DL"
      },
      "outputs": [],
      "source": [
        "def schedule_jobs_on_low_criticality(jobs,priorities):\n",
        "  '''\n",
        "  To schedule the given jobs with the given priority sequence  \n",
        "  '''\n",
        "  completion_times = {}\n",
        "  job_arrival_times = {}\n",
        "  job_active_runtimes = {}\n",
        "  start_time = {}\n",
        "  end_time = {}\n",
        "  start_end_time = {}\n",
        "  # Map each time unit with job id\n",
        "  schedule = {}\n",
        "  t = 0\n",
        "  scheduled_jobs = 0\n",
        "  total_jobs = len(jobs)\n",
        "  is_started = [False] * total_jobs\n",
        "  total_runtime = jobs['lo_wcet'].sum()\n",
        "  # Extract the required metrics\n",
        "  for i in range(1, total_jobs + 1):\n",
        "    job_arrival_times[i] = int(jobs[jobs['unique_index'] == i]['arrival_time'])\n",
        "    job_active_runtimes[i] = int(jobs[jobs['unique_index'] == i]['lo_wcet'])\n",
        "  # For each time unit\n",
        "  while scheduled_jobs < total_jobs:\n",
        "    ready_jobs = []\n",
        "    # Traverse through the list of jobs\n",
        "    for job in range(1, total_jobs + 1):\n",
        "      # Identify the jobs in ready state\n",
        "      if job_arrival_times[job] <= t and job_active_runtimes[job] > 0:\n",
        "        ready_jobs.append(job)\n",
        "    # Check if processor is idle\n",
        "    if not len(ready_jobs):\n",
        "      schedule[t] = -1\n",
        "    # Execute ready job with highest priority\n",
        "    else:\n",
        "      for p in priorities:\n",
        "        if p in ready_jobs:\n",
        "          schedule[t] = p\n",
        "          job_active_runtimes[p] -= 1\n",
        "          if not is_started[p-1]:\n",
        "            is_started[p-1] = True\n",
        "            start_time[p] = t\n",
        "          # Check if job has ended\n",
        "          if not job_active_runtimes[p]:\n",
        "            scheduled_jobs += 1\n",
        "            start_end_time[p] = {'start_time': start_time[p],\n",
        "                                 'end_time': t+1}\n",
        "          break\n",
        "    t += 1\n",
        "  return schedule, start_end_time\n",
        "\n",
        "#schedule, start_end_time = schedule_jobs_on_low_criticality(job2,edf_priorities)\n",
        "#schedule, start_end_time"
      ]
    },
    {
      "cell_type": "code",
      "execution_count": null,
      "metadata": {
        "id": "5mMkgDWk07er"
      },
      "outputs": [],
      "source": [
        "def schedule_jobs_on_high_criticality(jobs,priorities):\n",
        "  '''\n",
        "  To schedule the given jobs with the given priority sequence  \n",
        "  '''\n",
        "  hi_jobs = jobs[jobs['criticality_level'] == 'HI']\n",
        "  hi_job_ids = list(hi_jobs['unique_index'])\n",
        "\n",
        "  job_arrival_times = {}\n",
        "  job_active_runtimes = {}\n",
        "  start_time = {}\n",
        "  end_time = {}\n",
        "  start_end_time = {}\n",
        "\n",
        "  # Map each time unit with job id\n",
        "  schedule = {}\n",
        "\n",
        "  t = 0\n",
        "  scheduled_jobs = 0\n",
        "  total_jobs = len(hi_jobs)\n",
        "  is_started = dict(zip([i for i in hi_job_ids], [False for _ in range(1, total_jobs + 1)]))\n",
        "  total_runtime = jobs['hi_wcet'].sum()\n",
        "\n",
        "  # Extract the required metrics\n",
        "  for job_id in list(hi_jobs['unique_index']):\n",
        "    job_arrival_times[job_id] = int(hi_jobs[hi_jobs['unique_index'] == job_id]['arrival_time'])\n",
        "    job_active_runtimes[job_id] = int(hi_jobs[hi_jobs['unique_index'] == job_id]['hi_wcet'])\n",
        "\n",
        "  # For each time unit\n",
        "  while scheduled_jobs < total_jobs:\n",
        "    ready_jobs = []\n",
        "\n",
        "    # Traverse through the list of jobs\n",
        "    for job in list(hi_jobs['unique_index']):\n",
        "  \n",
        "      # Identify the jobs in ready state\n",
        "      if job_arrival_times[job] <= t and job_active_runtimes[job] > 0:\n",
        "        ready_jobs.append(job)\n",
        "\n",
        "    # Check if processor is idle\n",
        "    if not len(ready_jobs):\n",
        "      schedule[t] = -1\n",
        "\n",
        "    # Execute ready job with highest priority\n",
        "    else:\n",
        "      for p in priorities:\n",
        "        if p in ready_jobs:\n",
        "          schedule[t] = p\n",
        "          job_active_runtimes[p] -= 1\n",
        "\n",
        "          if not is_started[p]:\n",
        "            is_started[p] = True\n",
        "            start_time[p] = t\n",
        "\n",
        "          # Check if job has ended\n",
        "          if not job_active_runtimes[p]:\n",
        "            scheduled_jobs += 1\n",
        "            start_end_time[p] = {'start_time': start_time[p],\n",
        "                                 'end_time': t+1}\n",
        "          break\n",
        "\n",
        "    t += 1\n",
        "\n",
        "  return schedule, start_end_time\n",
        "\n"
      ]
    },
    {
      "cell_type": "code",
      "execution_count": null,
      "metadata": {
        "id": "3UT_iDYN5Gdd"
      },
      "outputs": [],
      "source": [
        "def check_criticality_failure(jobs,start_end_time):\n",
        "  '''\n",
        "  To schedule all tasks in low criticality mode\n",
        "  '''\n",
        "  deadlines = {}\n",
        "  is_failure = False\n",
        "  total_jobs = len(jobs)\n",
        "  # For each job\n",
        "  for i in range(1, total_jobs + 1):\n",
        "    job_deadline = int(jobs[jobs['unique_index'] == i]['deadline'])\n",
        "    # Check if the completion time exceeds its deadline\n",
        "    if start_end_time[i]['end_time'] > job_deadline:\n",
        "      is_failure = True\n",
        "      break\n",
        "  return is_failure\n",
        "\n",
        "#is_low_criticality_failure = check_low_criticality_failure(job3,start_end_time)\n",
        "#is_low_criticality_failure"
      ]
    },
    {
      "cell_type": "code",
      "execution_count": null,
      "metadata": {
        "id": "ZZVrCvncSvsv"
      },
      "outputs": [],
      "source": [
        "def topologicalSortUtil(graph,v, visited, stack,lev,level):\n",
        "    '''\n",
        "    Helper function for topological sorting\n",
        "    '''\n",
        "    visited[v] = True\n",
        "    for i in graph[v]:\n",
        "        if(visited[i] == False):\n",
        "            level[lev].append(i)\n",
        "            topologicalSortUtil(graph,i, visited, stack,lev+1,level)\n",
        "    stack.append(v)\n",
        "\n",
        "def topologicalSort(J,graph):\n",
        "    '''\n",
        "    Topological sorting\n",
        "    '''\n",
        "    V=len(J)+1\n",
        "    visited = [False]*(V)\n",
        "    stack = []\n",
        "    level = defaultdict(list)\n",
        "    for i in range(1,V):\n",
        "        if visited[i] == False:\n",
        "            level[len(level)+1].append(i)\n",
        "            topologicalSortUtil(graph,i, visited, stack,len(level)+1,level)\n",
        "    '''PT=[]\n",
        "    print(level)\n",
        "    kp=list(level.keys())\n",
        "    kp.reverse()\n",
        "    for i in kp:\n",
        "        PT+=level[i]'''\n",
        "    return (stack) \n",
        "    #return PT"
      ]
    },
    {
      "cell_type": "code",
      "execution_count": null,
      "metadata": {
        "id": "KM794KyETpT0"
      },
      "outputs": [],
      "source": [
        "def find_par(sch,J,graph,par,bi):\n",
        "    '''\n",
        "    Function to return parent based on busy interval\n",
        "    '''\n",
        "    latlo=-2\n",
        "    lathi=-2\n",
        "    print(\"Busy Interval {}\".format(bi))\n",
        "    if(len(bi)==2 and sch[bi[0]]==sch[bi[1]]):\n",
        "        return sch[bi[0]]\n",
        "    else:\n",
        "        for i in range(bi[1],bi[0]-1,-1):\n",
        "            if(J.iloc[sch[i]-1][3]=='HI' and lathi==-2):\n",
        "                lathi=sch[i]\n",
        "            elif(J.iloc[sch[i]-1][3]=='LO' and latlo==-2):\n",
        "                latlo=sch[i]\n",
        "            if(latlo!=-2 and lathi!=-2):\n",
        "                break\n",
        "        if(J.iloc[latlo-1][2]<=bi[1]):\n",
        "            return lathi\n",
        "        else:\n",
        "            return latlo\n"
      ]
    },
    {
      "cell_type": "code",
      "execution_count": null,
      "metadata": {
        "id": "U6eLjiv-T7lX"
      },
      "outputs": [],
      "source": [
        "def GeneratePriorityTree(sch,J,graph,par,bi):\n",
        "    '''\n",
        "    Function to generate Priority Tree\n",
        "    '''\n",
        "    B=find_par(sch,J,graph,par,bi)\n",
        "    print(\"Parent in above Busy interval = {}\".format(B))\n",
        "    if(par!=-1):\n",
        "        graph[par].append(B)\n",
        "        #graph[B].append(par)\n",
        "    st,en=-1,-1\n",
        "    if(bi[0]==bi[1]):\n",
        "        graph[par].append(sch[bi[0]])\n",
        "        return graph\n",
        "    else:\n",
        "        bnn=[]\n",
        "        for i in range(bi[0],bi[1]+1,1):\n",
        "            if(sch[i]!=B):\n",
        "                bnn.append(i)\n",
        "                if(i==bi[1]):\n",
        "                    GeneratePriorityTree(sch,J,graph,B,(bnn[0],bnn[len(bnn)-1]))\n",
        "            elif(sch[i]==B):\n",
        "                if(len(bnn)>0):\n",
        "                    GeneratePriorityTree(sch,J,graph,B,(bnn[0],bnn[len(bnn)-1]))\n",
        "                    bnn=[]\n",
        "                else:\n",
        "                    continue\n",
        "    return graph"
      ]
    },
    {
      "cell_type": "code",
      "execution_count": null,
      "metadata": {
        "id": "1l2VgGGiV6c5"
      },
      "outputs": [],
      "source": [
        "def make_schedule(schedule):\n",
        "    '''\n",
        "    helper function for mcedf\n",
        "    '''\n",
        "    k=list(schedule.keys())\n",
        "    sch=[]\n",
        "    for i in range(len(k)):\n",
        "        sch.append(schedule[k[i]])\n",
        "    return sch"
      ]
    },
    {
      "cell_type": "code",
      "execution_count": null,
      "metadata": {
        "id": "iQwZAYYp5G5K"
      },
      "outputs": [],
      "source": [
        "def check_high_criticality_failure(jobs,start_end_time):\n",
        "  '''\n",
        "  To schedule all tasks in low criticality mode\n",
        "  '''\n",
        "  hi_jobs = jobs[jobs['criticality_level'] == 'HI']\n",
        "  hi_job_ids = list(hi_jobs['unique_index'])\n",
        "\n",
        "  deadlines = {}\n",
        "  is_failure = False\n",
        "  total_jobs = len(hi_jobs)\n",
        "\n",
        "  # For each job\n",
        "  for i in hi_job_ids:\n",
        "    job_deadline = int(jobs[jobs['unique_index'] == i]['deadline'])\n",
        "\n",
        "    # Check if the completion time exceeds its deadline\n",
        "    if start_end_time[i]['end_time'] > job_deadline:\n",
        "      is_failure = True\n",
        "      break\n",
        "  return is_failure"
      ]
    },
    {
      "cell_type": "code",
      "execution_count": null,
      "metadata": {
        "id": "xw9MELF47wWZ"
      },
      "outputs": [],
      "source": [
        "def draw_gantt_chart(jobs,schedule, criticality):\n",
        "  '''\n",
        "  To plot the Gantt chart for the given schedule\n",
        "  '''\n",
        "  runtime = {}\n",
        "  task_ids = list(set(schedule.values()))\n",
        "  end_time = max(schedule.keys())\n",
        "  total_tasks = len(task_ids)\n",
        "\n",
        "  for k, v in schedule.items():\n",
        "\n",
        "    if v in runtime:\n",
        "      runtime[v].append((k, 1))\n",
        "    else:\n",
        "      runtime[v] = [(k, 1)]\n",
        "\n",
        "  fig, gnt = plt.subplots()\n",
        "\n",
        "  # Setting limits\n",
        "  gnt.set_xlim(0, end_time + 1)\n",
        "  gnt.set_ylim(0, total_tasks * 4)\n",
        " \n",
        "  gnt.set_yticks([4 * i + 2 for i in range(total_tasks)])\n",
        "  yticklabels = ['Job {}'.format(i) for i in task_ids]\n",
        "  yticklabels.reverse()\n",
        "  gnt.set_yticklabels(yticklabels)\n",
        "\n",
        "  # Setting labels\n",
        "  gnt.set_xlabel('Schedule')\n",
        "  gnt.set_ylabel('Jobs')\n",
        "\n",
        "  if criticality == 'LO':\n",
        "    gnt.set_title('LO Criticality Scheduling')\n",
        "  else:\n",
        "    gnt.set_title('HI Criticality Scheduling')\n",
        " \n",
        "  sorted_runtime = list(runtime.keys())\n",
        "  sorted_runtime.sort()\n",
        "\n",
        "  # Declaring a bar in schedule\n",
        "  for k in sorted_runtime:\n",
        "    if str(jobs[jobs['unique_index'] == k]['criticality_level'].iat[0]) == 'HI':\n",
        "      gnt.broken_barh(runtime[k], ((total_tasks - sorted_runtime.index(k) - 1) * 4, 4), facecolors=('tab:red'))\n",
        "    else:\n",
        "      gnt.broken_barh(runtime[k], ((total_tasks - sorted_runtime.index(k) - 1) * 4, 4), color='tab:blue')\n",
        "\n"
      ]
    },
    {
      "cell_type": "code",
      "execution_count": null,
      "metadata": {
        "id": "EWdUCQiZUDRc"
      },
      "outputs": [],
      "source": [
        "def mcedf(J):\n",
        "    '''\n",
        "    Main Function of MCEDF\n",
        "    '''\n",
        "    PT=get_edf_priority(J)\n",
        "    print('Initial Priority of Jobs based on EDF on LO scanario {}'.format(PT))\n",
        "    #print(PT)\n",
        "    schedule, start_end_time = schedule_jobs_on_low_criticality(J,PT)\n",
        "    if(check_criticality_failure(J,start_end_time)):\n",
        "        return False\n",
        "    print()\n",
        "    print(\"LO Scenario Passed\")\n",
        "    #PT=InproveHIJobs(PT,J)\n",
        "    sch=make_schedule(schedule)\n",
        "    print()\n",
        "    print('Scheduling of Jobs on LO criticality {}'.format(sch))\n",
        "    #sch=[3,3,1,1,2]\n",
        "    graph = defaultdict(list)\n",
        "    G=GeneratePriorityTree(sch,J,graph,-1,(0,len(sch)-1))\n",
        "    print()\n",
        "    print(\"Priority Tree Formed = {}\".format(G))\n",
        "    PT=topologicalSort(J,G)\n",
        "    #PT=BFS(J,G,1)\n",
        "    #print(PT)\n",
        "    schedule, start_end_time=schedule_jobs_on_high_criticality(J,PT)\n",
        "    if(check_high_criticality_failure(J,start_end_time)):\n",
        "        return False\n",
        "    print()\n",
        "    print(\"HI Scenario Passed\")\n",
        "    return PT\n"
      ]
    },
    {
      "cell_type": "code",
      "execution_count": null,
      "metadata": {
        "id": "FYnMjIbnD_jX"
      },
      "outputs": [],
      "source": [
        "x=[\"Job1\",\"Job2\",\"Job3\",\"Job4\",\"Job5\"]\n",
        "y_mcedf=[]\n",
        "y_ocbp=[]\n",
        "sch_m=0\n",
        "sch_o=0"
      ]
    },
    {
      "cell_type": "markdown",
      "metadata": {
        "id": "fMqwopZRJ7c3"
      },
      "source": [
        "# Running on Job-1 Instance"
      ]
    },
    {
      "cell_type": "code",
      "execution_count": null,
      "metadata": {
        "colab": {
          "base_uri": "https://localhost:8080/"
        },
        "id": "BcAgiTMcgBPc",
        "outputId": "d3dd9ad7-a114-4bcd-cddc-108ac7aa4c2f"
      },
      "outputs": [
        {
          "name": "stdout",
          "output_type": "stream",
          "text": [
            "Initial Priority of Jobs based on EDF on LO scanario [1, 2]\n",
            "\n",
            "LO Scenario Passed\n",
            "\n",
            "Scheduling of Jobs on LO criticality [1, 1, 2, 2, 2, 2]\n",
            "Busy Interval (0, 5)\n",
            "Parent in above Busy interval = 1\n",
            "Busy Interval (2, 5)\n",
            "Parent in above Busy interval = 2\n",
            "\n",
            "Priority Tree Formed = defaultdict(<class 'list'>, {1: [2]})\n",
            "\n",
            "HI Scenario Passed\n",
            "\n",
            "Final Priority of Jobs using MCEDF will be\n",
            "[2, 1]\n"
          ]
        }
      ],
      "source": [
        "a=time()\n",
        "PT=mcedf(job1)\n",
        "b=time()\n",
        "y_mcedf.append(b-a)\n",
        "if(PT==False):\n",
        "    print()\n",
        "    print(\"Not Schedulable\")\n",
        "else:\n",
        "    print()\n",
        "    print(\"Final Priority of Jobs using MCEDF will be\")\n",
        "    sch_m+=1\n",
        "    print(PT)\n"
      ]
    },
    {
      "cell_type": "code",
      "execution_count": null,
      "metadata": {
        "colab": {
          "base_uri": "https://localhost:8080/",
          "height": 313
        },
        "id": "B8Xyeo3772-G",
        "outputId": "97747b7c-09af-4ee4-bc02-d7eda771b0c2"
      },
      "outputs": [
        {
          "name": "stdout",
          "output_type": "stream",
          "text": [
            "{0: 2, 1: 2, 2: 2, 3: 2, 4: 1, 5: 1}\n"
          ]
        },
        {
          "data": {
            "image/png": "[encoded data removed]",
            "text/plain": [
              "<Figure size 432x288 with 1 Axes>"
            ]
          },
          "metadata": {
            "needs_background": "light"
          },
          "output_type": "display_data"
        }
      ],
      "source": [
        "schedule, start_end_time = schedule_jobs_on_low_criticality(job1,PT)\n",
        "print(schedule)\n",
        "draw_gantt_chart(job1,schedule,'LO')\n"
      ]
    },
    {
      "cell_type": "code",
      "execution_count": null,
      "metadata": {
        "colab": {
          "base_uri": "https://localhost:8080/",
          "height": 313
        },
        "id": "7S5svVwT726h",
        "outputId": "c5128c75-b290-4297-8195-265155a96ab2"
      },
      "outputs": [
        {
          "name": "stdout",
          "output_type": "stream",
          "text": [
            "{0: 2, 1: 2, 2: 2, 3: 2, 4: 2}\n"
          ]
        },
        {
          "data": {
            "image/png": "[encoded data removed]",
            "text/plain": [
              "<Figure size 432x288 with 1 Axes>"
            ]
          },
          "metadata": {
            "needs_background": "light"
          },
          "output_type": "display_data"
        }
      ],
      "source": [
        "schedule, start_end_time=schedule_jobs_on_high_criticality(job1,PT)\n",
        "print(schedule)\n",
        "draw_gantt_chart(job1,schedule,'HI')"
      ]
    },
    {
      "cell_type": "markdown",
      "metadata": {
        "id": "xMtepcDKKDcf"
      },
      "source": [
        "# Running on Job-2 Instance"
      ]
    },
    {
      "cell_type": "code",
      "execution_count": null,
      "metadata": {
        "colab": {
          "base_uri": "https://localhost:8080/"
        },
        "id": "S5kRWprAgBIE",
        "outputId": "b055c879-4480-4e9e-f058-03ccfa3b61cd"
      },
      "outputs": [
        {
          "name": "stdout",
          "output_type": "stream",
          "text": [
            "Initial Priority of Jobs based on EDF on LO scanario [3, 1, 2]\n",
            "\n",
            "LO Scenario Passed\n",
            "\n",
            "Scheduling of Jobs on LO criticality [3, 3, 1, 1, 2]\n",
            "Busy Interval (0, 4)\n",
            "Parent in above Busy interval = 2\n",
            "Busy Interval (0, 3)\n",
            "Parent in above Busy interval = 3\n",
            "Busy Interval (2, 3)\n",
            "Parent in above Busy interval = 1\n",
            "\n",
            "Priority Tree Formed = defaultdict(<class 'list'>, {2: [3], 3: [1]})\n",
            "\n",
            "HI Scenario Passed\n",
            "\n",
            "Final Priority of Jobs using MCEDF will be\n",
            "[1, 3, 2]\n"
          ]
        }
      ],
      "source": [
        "a=time()\n",
        "PT=mcedf(job2)\n",
        "b=time()\n",
        "y_mcedf.append(b-a)\n",
        "if(PT==False):\n",
        "    print()\n",
        "    print(\"Not Schedulable\")\n",
        "else:\n",
        "    print()\n",
        "    sch_m+=1\n",
        "    print(\"Final Priority of Jobs using MCEDF will be\")\n",
        "    print(PT)"
      ]
    },
    {
      "cell_type": "code",
      "execution_count": null,
      "metadata": {
        "colab": {
          "base_uri": "https://localhost:8080/",
          "height": 313
        },
        "id": "wXB1rHDR8h-v",
        "outputId": "47bc64e2-c018-4de1-e389-70c1d7d9fa0f"
      },
      "outputs": [
        {
          "name": "stdout",
          "output_type": "stream",
          "text": [
            "{0: 1, 1: 1, 2: 3, 3: 3, 4: 2}\n"
          ]
        },
        {
          "data": {
            "image/png": "[encoded data removed]",
            "text/plain": [
              "<Figure size 432x288 with 1 Axes>"
            ]
          },
          "metadata": {
            "needs_background": "light"
          },
          "output_type": "display_data"
        }
      ],
      "source": [
        "schedule, start_end_time = schedule_jobs_on_low_criticality(job2,PT)\n",
        "print(schedule)\n",
        "draw_gantt_chart(job2,schedule,'LO')\n"
      ]
    },
    {
      "cell_type": "code",
      "execution_count": null,
      "metadata": {
        "colab": {
          "base_uri": "https://localhost:8080/",
          "height": 313
        },
        "id": "iX5y_8ri8h3V",
        "outputId": "50d06125-c978-492b-d6fc-ca6af3e4eb48"
      },
      "outputs": [
        {
          "name": "stdout",
          "output_type": "stream",
          "text": [
            "{0: 1, 1: 1, 2: 1, 3: 2, 4: 2}\n"
          ]
        },
        {
          "data": {
            "image/png": "[encoded data removed]",
            "text/plain": [
              "<Figure size 432x288 with 1 Axes>"
            ]
          },
          "metadata": {
            "needs_background": "light"
          },
          "output_type": "display_data"
        }
      ],
      "source": [
        "schedule, start_end_time=schedule_jobs_on_high_criticality(job2,PT)\n",
        "print(schedule)\n",
        "draw_gantt_chart(job2,schedule,'HI')"
      ]
    },
    {
      "cell_type": "markdown",
      "metadata": {
        "id": "B2TRZP8vKFpd"
      },
      "source": [
        "# Running on Job-3 Instance"
      ]
    },
    {
      "cell_type": "code",
      "execution_count": null,
      "metadata": {
        "colab": {
          "base_uri": "https://localhost:8080/"
        },
        "id": "39ir2IgVUgsW",
        "outputId": "88e8fc10-d4ea-4321-b635-9ce5f6035d89"
      },
      "outputs": [
        {
          "name": "stdout",
          "output_type": "stream",
          "text": [
            "Initial Priority of Jobs based on EDF on LO scanario [1, 2, 3, 4]\n",
            "\n",
            "LO Scenario Passed\n",
            "\n",
            "Scheduling of Jobs on LO criticality [1, 1, 4, 2, 3]\n",
            "Busy Interval (0, 4)\n",
            "Parent in above Busy interval = 3\n",
            "Busy Interval (0, 3)\n",
            "Parent in above Busy interval = 2\n",
            "Busy Interval (0, 2)\n",
            "Parent in above Busy interval = 1\n",
            "Busy Interval (2, 2)\n",
            "Parent in above Busy interval = 4\n",
            "\n",
            "Priority Tree Formed = defaultdict(<class 'list'>, {3: [2], 2: [1], 1: [4, 4]})\n",
            "\n",
            "HI Scenario Passed\n",
            "\n",
            "Final Priority of Jobs using MCDEDF will be\n",
            "[4, 1, 2, 3]\n"
          ]
        }
      ],
      "source": [
        "a=time()\n",
        "PT=mcedf(job3)\n",
        "b=time()\n",
        "y_mcedf.append(b-a)\n",
        "if(PT==False):\n",
        "    print()\n",
        "    print(\"Not Schedulable\")\n",
        "else:\n",
        "    print()\n",
        "    sch_m+=1\n",
        "    print(\"Final Priority of Jobs using MCDEDF will be\")\n",
        "    print(PT)"
      ]
    },
    {
      "cell_type": "code",
      "execution_count": null,
      "metadata": {
        "colab": {
          "base_uri": "https://localhost:8080/",
          "height": 313
        },
        "id": "2u3FxsR7Svnw",
        "outputId": "dd5d8dd0-c993-432c-9ae7-d235a4509d14"
      },
      "outputs": [
        {
          "name": "stdout",
          "output_type": "stream",
          "text": [
            "{0: 4, 1: 1, 2: 1, 3: 2, 4: 3}\n"
          ]
        },
        {
          "data": {
            "image/png": "[encoded data removed]",
            "text/plain": [
              "<Figure size 432x288 with 1 Axes>"
            ]
          },
          "metadata": {
            "needs_background": "light"
          },
          "output_type": "display_data"
        }
      ],
      "source": [
        "schedule, start_end_time = schedule_jobs_on_low_criticality(job3,PT)\n",
        "print(schedule)\n",
        "draw_gantt_chart(job3,schedule,'LO')\n"
      ]
    },
    {
      "cell_type": "code",
      "execution_count": null,
      "metadata": {
        "colab": {
          "base_uri": "https://localhost:8080/",
          "height": 313
        },
        "id": "ATTtTz8-Svkz",
        "outputId": "97026840-5b22-431f-e609-a3af1959c302"
      },
      "outputs": [
        {
          "name": "stdout",
          "output_type": "stream",
          "text": [
            "{0: 4, 1: 4, 2: 4, 3: 4, 4: 3}\n"
          ]
        },
        {
          "data": {
            "image/png": "[encoded data removed]",
            "text/plain": [
              "<Figure size 432x288 with 1 Axes>"
            ]
          },
          "metadata": {
            "needs_background": "light"
          },
          "output_type": "display_data"
        }
      ],
      "source": [
        "schedule, start_end_time=schedule_jobs_on_high_criticality(job3,PT)\n",
        "print(schedule)\n",
        "draw_gantt_chart(job3,schedule,'HI')"
      ]
    },
    {
      "cell_type": "markdown",
      "metadata": {
        "id": "ItOkFVzjKH3I"
      },
      "source": [
        "# Running on Job-4 Instance"
      ]
    },
    {
      "cell_type": "code",
      "execution_count": null,
      "metadata": {
        "colab": {
          "base_uri": "https://localhost:8080/"
        },
        "id": "Iv8zolnAOoQs",
        "outputId": "2e9594f7-175b-4c0a-d258-865373f4621f"
      },
      "outputs": [
        {
          "name": "stdout",
          "output_type": "stream",
          "text": [
            "Initial Priority of Jobs based on EDF on LO scanario [2, 5, 4, 3, 1]\n",
            "\n",
            "LO Scenario Passed\n",
            "\n",
            "Scheduling of Jobs on LO criticality [1, 3, 2, 2, 3, 1, 1, 5, 5, 4, 4, 1, 1, 1, 1, 1, 1, 1]\n",
            "Busy Interval (0, 17)\n",
            "Parent in above Busy interval = 1\n",
            "Busy Interval (1, 4)\n",
            "Parent in above Busy interval = 3\n",
            "Busy Interval (2, 3)\n",
            "Parent in above Busy interval = 2\n",
            "Busy Interval (7, 10)\n",
            "Parent in above Busy interval = 5\n",
            "Busy Interval (9, 10)\n",
            "Parent in above Busy interval = 4\n",
            "\n",
            "Priority Tree Formed = defaultdict(<class 'list'>, {1: [3, 5], 3: [2], 5: [4]})\n",
            "\n",
            "HI Scenario Passed\n",
            "\n",
            "Final Priority of Jobs using MCDEDF will be\n",
            "[2, 3, 4, 5, 1]\n"
          ]
        }
      ],
      "source": [
        "a=time()\n",
        "PT=mcedf(job4)\n",
        "b=time()\n",
        "y_mcedf.append(b-a)\n",
        "if(PT==False):\n",
        "    print()\n",
        "    print(\"Not Schedulable\")\n",
        "else:\n",
        "    print()\n",
        "    sch_m+=1\n",
        "    print(\"Final Priority of Jobs using MCDEDF will be\")\n",
        "    print(PT)"
      ]
    },
    {
      "cell_type": "code",
      "execution_count": null,
      "metadata": {
        "colab": {
          "base_uri": "https://localhost:8080/",
          "height": 313
        },
        "id": "lszN3txYOoNP",
        "outputId": "7fce407a-2a9c-4db3-a522-a3058bb41070"
      },
      "outputs": [
        {
          "name": "stdout",
          "output_type": "stream",
          "text": [
            "{0: 1, 1: 3, 2: 2, 3: 2, 4: 3, 5: 1, 6: 1, 7: 5, 8: 4, 9: 4, 10: 5, 11: 1, 12: 1, 13: 1, 14: 1, 15: 1, 16: 1, 17: 1}\n"
          ]
        },
        {
          "data": {
            "image/png": "[encoded data removed]",
            "text/plain": [
              "<Figure size 432x288 with 1 Axes>"
            ]
          },
          "metadata": {
            "needs_background": "light"
          },
          "output_type": "display_data"
        }
      ],
      "source": [
        "schedule, start_end_time = schedule_jobs_on_low_criticality(job4,PT)\n",
        "print(schedule)\n",
        "draw_gantt_chart(job4,schedule,'LO')\n"
      ]
    },
    {
      "cell_type": "code",
      "execution_count": null,
      "metadata": {
        "colab": {
          "base_uri": "https://localhost:8080/",
          "height": 313
        },
        "id": "WLpR0awKOoIE",
        "outputId": "16cca359-4dfa-42be-969d-3ccaa62e2ee6"
      },
      "outputs": [
        {
          "name": "stdout",
          "output_type": "stream",
          "text": [
            "{0: 1, 1: 1, 2: 2, 3: 2, 4: 2, 5: 2, 6: 2, 7: 2, 8: 2, 9: 2, 10: 4, 11: 4, 12: 4, 13: 4, 14: 4, 15: 4, 16: 4, 17: 1, 18: 1, 19: 1, 20: 1, 21: 1, 22: 1, 23: 1, 24: 1, 25: 1, 26: 1}\n"
          ]
        },
        {
          "data": {
            "image/png": "[encoded data removed]",
            "text/plain": [
              "<Figure size 432x288 with 1 Axes>"
            ]
          },
          "metadata": {
            "needs_background": "light"
          },
          "output_type": "display_data"
        }
      ],
      "source": [
        "schedule, start_end_time=schedule_jobs_on_high_criticality(job4,PT)\n",
        "print(schedule)\n",
        "draw_gantt_chart(job4,schedule,'HI')"
      ]
    },
    {
      "cell_type": "markdown",
      "metadata": {
        "id": "3fB7ReyuKJ-d"
      },
      "source": [
        "# Running on Job-5 Instance"
      ]
    },
    {
      "cell_type": "code",
      "execution_count": null,
      "metadata": {
        "colab": {
          "base_uri": "https://localhost:8080/"
        },
        "id": "tHoQs3oYNPhq",
        "outputId": "5e23d31c-d7c8-4ae0-b8a9-69d5f607fabe"
      },
      "outputs": [
        {
          "name": "stdout",
          "output_type": "stream",
          "text": [
            "Initial Priority of Jobs based on EDF on LO scanario [3, 2, 1, 5, 4, 6]\n",
            "\n",
            "Not Schedulable\n"
          ]
        }
      ],
      "source": [
        "a=time()\n",
        "PT=mcedf(job5)\n",
        "b=time()\n",
        "y_mcedf.append(b-a)\n",
        "if(PT==False):\n",
        "    print()\n",
        "    print(\"Not Schedulable\")\n",
        "else:\n",
        "    print()\n",
        "    sch_m+=1\n",
        "    print(\"Final Priority of Jobs using MCDEDF will be\")\n",
        "    print(PT)"
      ]
    },
    {
      "cell_type": "markdown",
      "metadata": {
        "id": "f-mcP8nuAGnY"
      },
      "source": [
        "\n",
        "\n",
        "## Own Criticality Based Priority (OCBP) Scheduling\n",
        "\n",
        "OCBP was theoretically the best among all fixed job priority scheduling algorithms for Mixed Critical Systems (MCS).\n",
        "\n",
        "**Approach:**\n",
        "\n",
        "- The priorities are assigned by repeatedly assigning the least priority, i.e. the last position in Priority Table (*PT*), to a job that will meet its deadline even when executing at the least priority.\n",
        "\n",
        "- The job that has got the least priority assigned is removed from the working set of jobs as it has no impact on the behavior of the higher priority jobs.\n",
        "\n",
        "- This procedure is repeated in multiple steps until no jobs remain in the working set.\n",
        "\n",
        "- If at some point, no job can be selected for the least priority in the set the the instance is considered non-schedulable.\n",
        "\n",
        "**Note:** The execution time available for a job in a fixed priority scheduling algorithm depends on the arrival and execution of jobs with a higher priority, but not on their relative priority assignment. "
      ]
    },
    {
      "cell_type": "code",
      "execution_count": null,
      "metadata": {
        "id": "YkdvntrxA260"
      },
      "outputs": [],
      "source": [
        "def ocbp(j,job,PT,all_j,max_depth,p):\n",
        "  #print(\"all jobs {}\".format(all_j))\n",
        "  a_w=[]\n",
        "  critical=job.iloc[j-1][3]\n",
        "  at=job.iloc[j-1][1]\n",
        "  wc=0\n",
        "  #print(PT)\n",
        "  if(len(all_j)==1):\n",
        "    #print(all_j)\n",
        "    PT.append(all_j[0])\n",
        "    #print(all_j)\n",
        "    #print(\"all jobs {}\".format(PT))\n",
        "    print(\"Job {} is selected\".format(j))\n",
        "    print(\"Remaining jobs as of now {}\".format(all_j))\n",
        "    print(\"Priority as of now {}\".format(PT[::-1]))\n",
        "    return PT[::-1]\n",
        "  if(p>max_depth):\n",
        "    return False\n",
        "  if(critical=='LO'):\n",
        "    wc=job.iloc[j-1][4]\n",
        "  else:\n",
        "    wc=job.iloc[j-1][5]\n",
        "  for i in range(len(job)):\n",
        "    if(job.iloc[i][0] in all_j):\n",
        "      if(job.iloc[i][0]!=j):\n",
        "        if(critical=='LO'):\n",
        "          a_w.append((job.iloc[i][1],job.iloc[i][4]))\n",
        "        else:\n",
        "          a_w.append((job.iloc[i][1],job.iloc[i][5]))\n",
        "  a_w=sorted(a_w)\n",
        "  #print(a_w)\n",
        "  sl=0\n",
        "  if(a_w[0][0]>at):\n",
        "    sl+=a_w[0][0]\n",
        "    wc-=a_w[0][0]\n",
        "    if(wc==0 and job.iloc[j-1][2]<=sl):\n",
        "      PT.append(j)\n",
        "      all_j.remove(j)\n",
        "      all_j=sorted(all_j)\n",
        "      print(\"Job {} is selected\".format(j))\n",
        "      print(\"Remaining jobs as of now {}\".format(all_j))\n",
        "      print(\"Priority as of now {}\".format(PT[::-1]))\n",
        "      ocbp(all_j[0],job,PT,all_j,max_depth,p+1)\n",
        "  else:\n",
        "    for i in range(len(a_w)):\n",
        "      if(a_w[i][0]<=sl):\n",
        "        sl+=a_w[i][1]\n",
        "      else:\n",
        "        tp=a_w[i][0]-sl\n",
        "        sl+=tp\n",
        "        #print(sl,wc)\n",
        "        #if(job.iloc[j-1][2]<=sl):\n",
        "        #print(wc,tp)\n",
        "        if(job.iloc[j-1][1]<sl):\n",
        "          wc-=(min(tp,wc)-(job.iloc[j-1][1]))\n",
        "          #print(wc,tp)\n",
        "          #print(job.iloc[j-1][2],wc)\n",
        "          if(wc<=0 and job.iloc[j-1][2]<=sl):\n",
        "            PT.append(j)\n",
        "            all_j.remove(j)\n",
        "            all_j=sorted(all_j)\n",
        "            #print(\"AV\")\n",
        "            print(\"Job {} is selected\".format(j))\n",
        "            print(\"Remaining jobs as of now {}\".format(all_j))\n",
        "            print(\"Priority as of now {}\".format(PT[::-1]))\n",
        "            return ocbp(all_j[0],job,PT,all_j,max_depth,p+1)\n",
        "            \n",
        "        else:\n",
        "          sl+=a_w[i][1]\n",
        "      '''if(i==0):\n",
        "        sl+=a_w[i][0]+a_w[i][1]\n",
        "      else:\n",
        "        if(sl<a_w[i][0]):\n",
        "          sl+=(a_w[i][0]-sl)+a_w[i][1]\n",
        "        else:\n",
        "          sl+=a_w[i][1]'''\n",
        "  sl+=wc\n",
        "  #print(sl)\n",
        "  if(job.iloc[j-1][2]>=sl):\n",
        "    PT.append(j)\n",
        "    all_j.remove(j)\n",
        "    all_j=sorted(all_j)\n",
        "    print(\"Job {} is selected\".format(j))\n",
        "    print(\"Remaining jobs as of now {}\".format(all_j))\n",
        "    print(\"Priority as of now {}\".format(PT[::-1]))\n",
        "    return ocbp(all_j[0],job,PT,all_j,max_depth,p+1)\n",
        "  else:\n",
        "    all_j=sorted(all_j)\n",
        "    n=0\n",
        "    for i in range(len(all_j)):\n",
        "      if(all_j[i]==j):\n",
        "        n=i+1\n",
        "        break\n",
        "    if(n>len(all_j)-1):\n",
        "      n=0\n",
        "    return ocbp(all_j[n],job,PT,all_j,max_depth,p+1)\n"
      ]
    },
    {
      "cell_type": "markdown",
      "metadata": {
        "id": "lerkFB_KKNGT"
      },
      "source": [
        "# Running on Job-1 Instance"
      ]
    },
    {
      "cell_type": "code",
      "execution_count": null,
      "metadata": {
        "colab": {
          "base_uri": "https://localhost:8080/"
        },
        "id": "CvMEUhYFA24F",
        "outputId": "89019fe6-ea3b-4c5f-d658-6cca1754bb9a"
      },
      "outputs": [
        {
          "name": "stdout",
          "output_type": "stream",
          "text": [
            "Job 1 is selected\n",
            "Remaining jobs as of now [2]\n",
            "Priority as of now [1]\n",
            "Job 2 is selected\n",
            "Remaining jobs as of now [2]\n",
            "Priority as of now [2, 1]\n",
            "\n",
            "Final Priority of Jobs using OCBP will be\n",
            "[2, 1]\n"
          ]
        }
      ],
      "source": [
        "all_j=[i+1 for i in range(len(job1))]\n",
        "max_depth=len(all_j)**2\n",
        "a=time()\n",
        "PT=ocbp(1,job1,[],all_j,max_depth,0)\n",
        "b=time()\n",
        "y_ocbp.append(b-a)\n",
        "if(PT==False):\n",
        "    print()\n",
        "    print(\"Not Schedulable\")\n",
        "else:\n",
        "    print()\n",
        "    sch_o+=1\n",
        "    print(\"Final Priority of Jobs using OCBP will be\")\n",
        "    print(PT)"
      ]
    },
    {
      "cell_type": "markdown",
      "metadata": {
        "id": "cU94pevVKOQz"
      },
      "source": [
        "# Running on Job-2 Instance"
      ]
    },
    {
      "cell_type": "code",
      "execution_count": null,
      "metadata": {
        "colab": {
          "base_uri": "https://localhost:8080/"
        },
        "id": "XkkrAUrYQnAg",
        "outputId": "10741f4c-f0c4-4267-b0ec-5376e7dea5d5"
      },
      "outputs": [
        {
          "name": "stdout",
          "output_type": "stream",
          "text": [
            "\n",
            "Not Schedulable\n"
          ]
        }
      ],
      "source": [
        "all_j=[i+1 for i in range(len(job2))]\n",
        "max_depth=len(all_j)**2\n",
        "a=time()\n",
        "PT=ocbp(1,job2,[],all_j,max_depth,0)\n",
        "b=time()\n",
        "y_ocbp.append(b-a)\n",
        "if(PT==False):\n",
        "    print()\n",
        "    print(\"Not Schedulable\")\n",
        "else:\n",
        "    print()\n",
        "    sch_o+=1\n",
        "    print(\"Final Priority of Jobs using OCBP will be\")\n",
        "    print(PT)"
      ]
    },
    {
      "cell_type": "markdown",
      "metadata": {
        "id": "5tOr4fYFKSQI"
      },
      "source": [
        "# Running on Job-3 Instance"
      ]
    },
    {
      "cell_type": "code",
      "execution_count": null,
      "metadata": {
        "colab": {
          "base_uri": "https://localhost:8080/"
        },
        "id": "BkeC3cie9RK_",
        "outputId": "82cf9365-7628-4c43-d0a6-2c7ecba8509d"
      },
      "outputs": [
        {
          "name": "stdout",
          "output_type": "stream",
          "text": [
            "Job 1 is selected\n",
            "Remaining jobs as of now [2, 3, 4]\n",
            "Priority as of now [1]\n",
            "Job 4 is selected\n",
            "Remaining jobs as of now [2, 3]\n",
            "Priority as of now [4, 1]\n",
            "Job 3 is selected\n",
            "Remaining jobs as of now [2]\n",
            "Priority as of now [3, 4, 1]\n",
            "Job 2 is selected\n",
            "Remaining jobs as of now [2]\n",
            "Priority as of now [2, 3, 4, 1]\n",
            "\n",
            "Final Priority of Jobs using OCBP will be\n",
            "[2, 3, 4, 1]\n"
          ]
        }
      ],
      "source": [
        "all_j=[i+1 for i in range(len(job3))]\n",
        "max_depth=len(all_j)**2\n",
        "a=time()\n",
        "PT=ocbp(1,job3,[],all_j,max_depth,0)\n",
        "b=time()\n",
        "y_ocbp.append(b-a)\n",
        "if(PT==False):\n",
        "    print()\n",
        "    print(\"Not Schedulable\")\n",
        "else:\n",
        "    print()\n",
        "    sch_o+=1\n",
        "    print(\"Final Priority of Jobs using OCBP will be\")\n",
        "    print(PT)"
      ]
    },
    {
      "cell_type": "markdown",
      "metadata": {
        "id": "vacNzC3uKVnU"
      },
      "source": [
        "# Running on Job-4 Instance"
      ]
    },
    {
      "cell_type": "code",
      "execution_count": null,
      "metadata": {
        "colab": {
          "base_uri": "https://localhost:8080/"
        },
        "id": "St11yJbTPAPR",
        "outputId": "f55e7a0d-f40c-4f90-ae0d-5a5469e1e117"
      },
      "outputs": [
        {
          "name": "stdout",
          "output_type": "stream",
          "text": [
            "Job 1 is selected\n",
            "Remaining jobs as of now [2, 3, 4, 5]\n",
            "Priority as of now [1]\n",
            "Job 3 is selected\n",
            "Remaining jobs as of now [2, 4, 5]\n",
            "Priority as of now [3, 1]\n",
            "Job 2 is selected\n",
            "Remaining jobs as of now [4, 5]\n",
            "Priority as of now [2, 3, 1]\n",
            "Job 4 is selected\n",
            "Remaining jobs as of now [5]\n",
            "Priority as of now [4, 2, 3, 1]\n",
            "Job 5 is selected\n",
            "Remaining jobs as of now [5]\n",
            "Priority as of now [5, 4, 2, 3, 1]\n",
            "\n",
            "Final Priority of Jobs using OCBP will be\n",
            "[5, 4, 2, 3, 1]\n"
          ]
        }
      ],
      "source": [
        "all_j=[i+1 for i in range(len(job4))]\n",
        "max_depth=len(all_j)**2\n",
        "a=time()\n",
        "PT=ocbp(1,job4,[],all_j,max_depth,0)\n",
        "b=time()\n",
        "y_ocbp.append(b-a)\n",
        "if(PT==False):\n",
        "    print()\n",
        "    print(\"Not Schedulable\")\n",
        "else:\n",
        "    print()\n",
        "    sch_o+=1\n",
        "    print(\"Final Priority of Jobs using OCBP will be\")\n",
        "    print(PT)"
      ]
    },
    {
      "cell_type": "markdown",
      "metadata": {
        "id": "15hKlki-KXsr"
      },
      "source": [
        "# Running on Job-5 Instance"
      ]
    },
    {
      "cell_type": "code",
      "execution_count": null,
      "metadata": {
        "colab": {
          "base_uri": "https://localhost:8080/"
        },
        "id": "j_0UHDcVE4fH",
        "outputId": "9a4fa340-d21c-4bc2-c70c-ec674ab3c0f3"
      },
      "outputs": [
        {
          "name": "stdout",
          "output_type": "stream",
          "text": [
            "\n",
            "Not Schedulable\n"
          ]
        }
      ],
      "source": [
        "all_j=[i+1 for i in range(len(job5))]\n",
        "max_depth=len(all_j)**2\n",
        "a=time()\n",
        "PT=ocbp(1,job5,[],all_j,max_depth,0)\n",
        "b=time()\n",
        "y_ocbp.append(b-a)\n",
        "if(PT==False):\n",
        "    print()\n",
        "    print(\"Not Schedulable\")\n",
        "else:\n",
        "    print()\n",
        "    sch_o+=1\n",
        "    print(\"Final Priority of Jobs using OCBP will be\")\n",
        "    print(PT)"
      ]
    },
    {
      "cell_type": "markdown",
      "metadata": {
        "id": "dqMWSLj9E-Ov"
      },
      "source": [
        "# Graph to compare time taken by MCEDF and OCBP\n"
      ]
    },
    {
      "cell_type": "code",
      "execution_count": null,
      "metadata": {
        "colab": {
          "base_uri": "https://localhost:8080/",
          "height": 279
        },
        "id": "_ycdQHkIFJhv",
        "outputId": "a9944d74-e854-41cb-9f48-16d1beb5f186"
      },
      "outputs": [
        {
          "data": {
            "image/png": "[encoded data removed]",
            "text/plain": [
              "<Figure size 432x288 with 1 Axes>"
            ]
          },
          "metadata": {
            "needs_background": "light"
          },
          "output_type": "display_data"
        }
      ],
      "source": [
        "plt.plot(x,y_mcedf,color='green',label=\"MCEDF\")\n",
        "plt.plot(x,y_ocbp,color='red',label=\"OCBP\")\n",
        "plt.xlabel(\"Job Instances\")\n",
        "plt.ylabel(\"Time Taken\")\n",
        "plt.legend(loc=\"upper left\")\n",
        "plt.show()"
      ]
    },
    {
      "cell_type": "markdown",
      "metadata": {
        "id": "nXYled9VS26S"
      },
      "source": [
        "# Bar Plot to compare schedulable and non schedulable instances"
      ]
    },
    {
      "cell_type": "code",
      "execution_count": null,
      "metadata": {
        "colab": {
          "base_uri": "https://localhost:8080/",
          "height": 279
        },
        "id": "07xM_t5KSuJn",
        "outputId": "e36141a3-141b-4ede-c918-aed675922f62"
      },
      "outputs": [
        {
          "data": {
            "image/png": "[encoded data removed]",
            "text/plain": [
              "<Figure size 432x288 with 1 Axes>"
            ]
          },
          "metadata": {
            "needs_background": "light"
          },
          "output_type": "display_data"
        }
      ],
      "source": [
        "x=[\"Schedulable MCEDF\",\"Schedulable OCBP\"]\n",
        "y=[sch_m,sch_o]\n",
        "plt.bar(x,y,color='green')\n",
        "plt.xlabel(\"Job Instances\")\n",
        "plt.ylabel(\"Time Taken\")\n",
        "plt.show()"
      ]
    },
    {
      "cell_type": "code",
      "execution_count": null,
      "metadata": {
        "colab": {
          "base_uri": "https://localhost:8080/",
          "height": 279
        },
        "id": "WTP0IvQFFL3E",
        "outputId": "c5f41b50-803a-46fd-a917-c894030c46bf"
      },
      "outputs": [
        {
          "data": {
            "image/png": "[encoded data removed]",
            "text/plain": [
              "<Figure size 432x288 with 1 Axes>"
            ]
          },
          "metadata": {
            "needs_background": "light"
          },
          "output_type": "display_data"
        }
      ],
      "source": [
        "x=[\"Non-Schedulable MCEDF\",\"Non-Schedulable OCBP\"]\n",
        "y=[5-sch_m,5-sch_o]\n",
        "plt.bar(x,y,color='green')\n",
        "plt.xlabel(\"Job Instances\")\n",
        "plt.ylabel(\"Time Taken\")\n",
        "plt.show()"
      ]
    },
    {
      "cell_type": "code",
      "execution_count": null,
      "metadata": {
        "id": "Z2cdplB3VUiD"
      },
      "outputs": [],
      "source": []
    },
    {
      "cell_type": "markdown",
      "metadata": {
        "id": "txWa9DZXO4qc"
      },
      "source": [
        "# Results and Observations\n",
        "\n",
        "- As the author mentioned that the number of schedulable tasks is significantly higher in case of MCEDF when compared to OCBP, this can be very well seen in above plot \"Bar Plot to compare schedulable and non schedulable instances\". \n",
        "\n",
        "- Also the time taken by MCEDF is comparatively lesser when compared to OCBP for average number of cases during our analysis. This also matches with the objective of the paper as mentioned by author."
      ]
    },
    {
      "cell_type": "code",
      "execution_count": null,
      "metadata": {
        "id": "P13iulp5O7jv"
      },
      "outputs": [],
      "source": []
    }
  ],
  "metadata": {
    "colab": {
      "collapsed_sections": [],
      "name": "Mixed_Critical_Earliest_Deadline_First.ipynb",
      "provenance": []
    },
    "kernelspec": {
      "display_name": "Python 3",
      "name": "python3"
    },
    "language_info": {
      "name": "python"
    }
  },
  "nbformat": 4,
  "nbformat_minor": 0
}
